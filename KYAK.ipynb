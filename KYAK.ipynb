{
  "nbformat": 4,
  "nbformat_minor": 0,
  "metadata": {
    "colab": {
      "name": "KYAK.ipynb",
      "version": "0.3.2",
      "provenance": [],
      "collapsed_sections": []
    },
    "kernelspec": {
      "name": "python3",
      "display_name": "Python 3"
    }
  },
  "cells": [
    {
      "cell_type": "code",
      "metadata": {
        "id": "uosNYaunI2tI",
        "colab_type": "code",
        "colab": {
          "base_uri": "https://localhost:8080/",
          "height": 555
        },
        "outputId": "09f051de-908a-47ae-ccbe-c6ba1d967d77"
      },
      "source": [
        "!unzip data.zip"
      ],
      "execution_count": 7,
      "outputs": [
        {
          "output_type": "stream",
          "text": [
            "Archive:  data.zip\n",
            "   creating: data/\n",
            "   creating: data/portfolio1/\n",
            "  inflating: data/portfolio1/important.txt  \n",
            "  inflating: data/portfolio1/ADBE.csv  \n",
            "   creating: __MACOSX/\n",
            "   creating: __MACOSX/data/\n",
            "   creating: __MACOSX/data/portfolio1/\n",
            "  inflating: __MACOSX/data/portfolio1/._ADBE.csv  \n",
            "  inflating: data/portfolio1/STX.csv  \n",
            "  inflating: __MACOSX/data/portfolio1/._STX.csv  \n",
            "  inflating: data/portfolio1/ORCL.csv  \n",
            "  inflating: __MACOSX/data/portfolio1/._ORCL.csv  \n",
            "  inflating: data/portfolio1/IBM.csv  \n",
            "  inflating: __MACOSX/data/portfolio1/._IBM.csv  \n",
            "  inflating: data/portfolio1/AAPL.csv  \n",
            "  inflating: __MACOSX/data/portfolio1/._AAPL.csv  \n",
            "   creating: data/portfolio2/\n",
            "  inflating: data/portfolio2/BA.csv  \n",
            "   creating: __MACOSX/data/portfolio2/\n",
            "  inflating: __MACOSX/data/portfolio2/._BA.csv  \n",
            "  inflating: data/portfolio2/.DS_Store  \n",
            "  inflating: __MACOSX/data/portfolio2/._.DS_Store  \n",
            "  inflating: data/portfolio2/XOM.csv  \n",
            "  inflating: __MACOSX/data/portfolio2/._XOM.csv  \n",
            "  inflating: data/portfolio2/PFE.csv  \n",
            "  inflating: __MACOSX/data/portfolio2/._PFE.csv  \n",
            "  inflating: data/portfolio2/AAPL.csv  \n",
            "  inflating: __MACOSX/data/portfolio2/._AAPL.csv  \n",
            "  inflating: data/portfolio2/WMT.csv  \n",
            "  inflating: __MACOSX/data/portfolio2/._WMT.csv  \n"
          ],
          "name": "stdout"
        }
      ]
    },
    {
      "cell_type": "code",
      "metadata": {
        "id": "8gSwkZ7QJbBq",
        "colab_type": "code",
        "colab": {}
      },
      "source": [
        "import pandas as pd\n",
        "df = pd.read_csv(\"data/portfolio1/AAPL.csv\", index_col='Date',parse_dates=True)\n",
        "#print(df)"
      ],
      "execution_count": 0,
      "outputs": []
    },
    {
      "cell_type": "code",
      "metadata": {
        "id": "grb63zrHFea8",
        "colab_type": "code",
        "colab": {}
      },
      "source": [
        "df_filled = df.fillna(method='ffill')"
      ],
      "execution_count": 0,
      "outputs": []
    },
    {
      "cell_type": "code",
      "metadata": {
        "id": "xPVe49bxHHp3",
        "colab_type": "code",
        "colab": {}
      },
      "source": [
        "df_filled.info()"
      ],
      "execution_count": 0,
      "outputs": []
    },
    {
      "cell_type": "code",
      "metadata": {
        "id": "hx_gDCb7DP-P",
        "colab_type": "code",
        "colab": {}
      },
      "source": [
        "relevant_cols =['High','Low']\n",
        "df[relevant_cols]\n",
        "\n",
        "new_df = pd.DataFrame()\n"
      ],
      "execution_count": 0,
      "outputs": []
    },
    {
      "cell_type": "code",
      "metadata": {
        "id": "hE9-e4guClpa",
        "colab_type": "code",
        "colab": {}
      },
      "source": [
        "df.info()"
      ],
      "execution_count": 0,
      "outputs": []
    },
    {
      "cell_type": "code",
      "metadata": {
        "id": "qOxguY2ECZ--",
        "colab_type": "code",
        "colab": {}
      },
      "source": [
        "df.index"
      ],
      "execution_count": 0,
      "outputs": []
    },
    {
      "cell_type": "code",
      "metadata": {
        "id": "DhAr8RAhNwrA",
        "colab_type": "code",
        "colab": {}
      },
      "source": [
        " a = \"hello\"\n",
        " type(a)"
      ],
      "execution_count": 0,
      "outputs": []
    },
    {
      "cell_type": "code",
      "metadata": {
        "id": "jltTaqRJvmM9",
        "colab_type": "code",
        "colab": {}
      },
      "source": [
        "df.head(3)"
      ],
      "execution_count": 0,
      "outputs": []
    },
    {
      "cell_type": "code",
      "metadata": {
        "id": "BorDLw8wxNj7",
        "colab_type": "code",
        "colab": {}
      },
      "source": [
        "df.tail(4)"
      ],
      "execution_count": 0,
      "outputs": []
    },
    {
      "cell_type": "code",
      "metadata": {
        "id": "M42Q4omGxhH1",
        "colab_type": "code",
        "colab": {}
      },
      "source": [
        "df.info()"
      ],
      "execution_count": 0,
      "outputs": []
    },
    {
      "cell_type": "code",
      "metadata": {
        "id": "Fx9_fhKeylH1",
        "colab_type": "code",
        "colab": {}
      },
      "source": [
        "df.describe(percentiles=[.1,.2])"
      ],
      "execution_count": 0,
      "outputs": []
    },
    {
      "cell_type": "code",
      "metadata": {
        "id": "fusVeYPMyvOO",
        "colab_type": "code",
        "colab": {}
      },
      "source": [
        "df.columns"
      ],
      "execution_count": 0,
      "outputs": []
    },
    {
      "cell_type": "code",
      "metadata": {
        "id": "JzzJG4hN06Q0",
        "colab_type": "code",
        "colab": {}
      },
      "source": [
        "df.shape"
      ],
      "execution_count": 0,
      "outputs": []
    },
    {
      "cell_type": "code",
      "metadata": {
        "id": "HyGXZK3q4Ygq",
        "colab_type": "code",
        "colab": {}
      },
      "source": [
        "df.describe()"
      ],
      "execution_count": 0,
      "outputs": []
    },
    {
      "cell_type": "code",
      "metadata": {
        "id": "k6HVQDLd1pF0",
        "colab_type": "code",
        "colab": {}
      },
      "source": [
        "df = df.set_index(\"Date\")"
      ],
      "execution_count": 0,
      "outputs": []
    },
    {
      "cell_type": "code",
      "metadata": {
        "id": "-_Q7MEpT2XDC",
        "colab_type": "code",
        "colab": {}
      },
      "source": [
        "df.head()"
      ],
      "execution_count": 0,
      "outputs": []
    },
    {
      "cell_type": "code",
      "metadata": {
        "id": "TZwzEzvO3P0q",
        "colab_type": "code",
        "colab": {}
      },
      "source": [
        "desdf = df.sort_index(ascending=0)"
      ],
      "execution_count": 0,
      "outputs": []
    },
    {
      "cell_type": "code",
      "metadata": {
        "id": "iomtAl8H4HEo",
        "colab_type": "code",
        "colab": {}
      },
      "source": [
        "print (desdf)"
      ],
      "execution_count": 0,
      "outputs": []
    },
    {
      "cell_type": "code",
      "metadata": {
        "id": "I30oepDUA9gE",
        "colab_type": "code",
        "colab": {}
      },
      "source": [
        "aapl = pd.read_csv(\"data/portfolio1/AAPL.csv\", index_col='Date',parse_dates=True)\n",
        "adbe = pd.read_csv(\"data/portfolio1/ADBE.csv\", index_col='Date',parse_dates=True)"
      ],
      "execution_count": 0,
      "outputs": []
    },
    {
      "cell_type": "code",
      "metadata": {
        "id": "Jlt4JgPUA9G1",
        "colab_type": "code",
        "colab": {}
      },
      "source": [
        "aapl.info()"
      ],
      "execution_count": 0,
      "outputs": []
    },
    {
      "cell_type": "code",
      "metadata": {
        "id": "fTWhfeCfB9lG",
        "colab_type": "code",
        "colab": {}
      },
      "source": [
        "join = adbe.join(aapl, how='inner', lsuffix=\"_AAPL\", rsuffix=\"_ADBE\")"
      ],
      "execution_count": 0,
      "outputs": []
    },
    {
      "cell_type": "code",
      "metadata": {
        "id": "IL1cbUsJCU7m",
        "colab_type": "code",
        "colab": {}
      },
      "source": [
        "iwant = ['Close','Adj Close']\n",
        "adbe1 = adbe[iwant]"
      ],
      "execution_count": 0,
      "outputs": []
    },
    {
      "cell_type": "code",
      "metadata": {
        "id": "tUkUje18I30p",
        "colab_type": "code",
        "colab": {}
      },
      "source": [
        "adbe1.columns = ['Closing Price','Adjusted Close']\n",
        "adbe1"
      ],
      "execution_count": 0,
      "outputs": []
    },
    {
      "cell_type": "code",
      "metadata": {
        "id": "uBXm5xMtPHJl",
        "colab_type": "code",
        "colab": {}
      },
      "source": [
        "adbe.rename(mapper=renaming, axis =1)"
      ],
      "execution_count": 0,
      "outputs": []
    },
    {
      "cell_type": "code",
      "metadata": {
        "id": "Z0TuFilbPMUe",
        "colab_type": "code",
        "colab": {}
      },
      "source": [
        "allfiles = ['data/portfolio1/AAPL.csv',\n",
        "            'data/portfolio1/ADBE.csv',\n",
        "            'data/portfolio1/IBM.csv',\n",
        "            'data/portfolio1/ORCL.csv',\n",
        "            'data/portfolio1/STX.csv']"
      ],
      "execution_count": 0,
      "outputs": []
    },
    {
      "cell_type": "code",
      "metadata": {
        "id": "LTI97_9jQ4Hf",
        "colab_type": "code",
        "colab": {}
      },
      "source": [
        "filepath = \"data/portfolio1/STX.csv\"\n",
        "\n",
        "filelist = filepath.split(\"/\")[-1]\n",
        "filelist_cleaned = filelist.split(\".\")[0]\n",
        "#filelist.replace(\".csv\",\"\")\n",
        "\n",
        "price = pd.read_csv(\"data/portfolio1/STX.csv\", index_col='Date',parse_dates=True)\n",
        "iwant = ['Close','Adj Close']\n",
        "renaming = {\"Close\" :\"Close1\", \"Adj Close\":\"Adj Close1\"}\n",
        "\n",
        "price_filtered = stx[iwant]\n",
        "price_filtered_rename = price_filtered.rename(mapper = renaming, axis=1)\n",
        "price_filtered_rename.columns = ['Close2','Adj Close2']"
      ],
      "execution_count": 0,
      "outputs": []
    },
    {
      "cell_type": "code",
      "metadata": {
        "id": "CXhABY6nRDbS",
        "colab_type": "code",
        "colab": {}
      },
      "source": [
        "filelist.replace(\".csv\",\"\")"
      ],
      "execution_count": 0,
      "outputs": []
    },
    {
      "cell_type": "code",
      "metadata": {
        "id": "xelqRzFbYN_a",
        "colab_type": "code",
        "colab": {}
      },
      "source": [
        ""
      ],
      "execution_count": 0,
      "outputs": []
    },
    {
      "cell_type": "code",
      "metadata": {
        "id": "nkZWNuQ4T9B2",
        "colab_type": "code",
        "colab": {}
      },
      "source": [
        "import pandas as pd\n",
        "import os\n",
        "\n",
        "\n",
        "# Define path in which files are stored\n",
        "initpath = 'data/portfolio1/'\n",
        "# Store all filenames in a list\n",
        "allfiles = os.listdir(initpath)\n",
        "\n",
        "# Remove redundant hardcoded filepaths\n",
        "\"\"\"allfiles = ['data/portfolio1/AAPL.csv',\n",
        "            'data/portfolio1/ADBE.csv',\n",
        "            'data/portfolio1/IBM.csv',\n",
        "            'data/portfolio1/ORCL.csv',\n",
        "            'data/portfolio1/STX.csv']\n",
        "\"\"\"\n",
        "\n",
        "# creating empty dataframe\n",
        "final_output = pd.DataFrame()\n",
        "\n",
        "# Define columns i want\n",
        "cols_i_want = [\"Adj Close\"]\n",
        "\n",
        "for filepath in allfiles:\n",
        "  \n",
        "  if \".csv\" in filepath:\n",
        "    # Get file name from path\n",
        "    filename = filepath.replace(\".csv\",\"\")\n",
        "    \"\"\"\n",
        "    filepath = initpath + filepath\n",
        "    filename = filepath.split(\"/\")[-1]\n",
        "    filename = filename.replace(\".csv\",\"\")\n",
        "    \"\"\"\n",
        "\n",
        "    # Read csv file and select column\n",
        "    price = pd.read_csv(initpath + filepath, index_col=\"Date\",parse_dates=True)\n",
        "    # Select relevant columns\n",
        "    price = price[cols_i_want]\n",
        "    # Rename column header to what was extracted from filename\n",
        "    price.columns = [filename]\n",
        "    # adding the column extracted to the dataframe\n",
        "    final_output = final_output.join(price, how=\"outer\") #outer to not lose data\n",
        "  \n",
        "  else:\n",
        "      print(filepath + \" is not a csv\")\n",
        "\n",
        "#print (filename)\n",
        "print (final_output)\n",
        "  #print (type(filename))\n",
        "  #print (type(price.columns))\n",
        "  #print(price.head(1))\n",
        "  #print(df.head(4))\n",
        "\n"
      ],
      "execution_count": 0,
      "outputs": []
    },
    {
      "cell_type": "code",
      "metadata": {
        "id": "44veeTt3SOtW",
        "colab_type": "code",
        "colab": {}
      },
      "source": [
        "import pandas as pd\n",
        "import os\n",
        "\n",
        "def consolidate_portfolio(portfolio_number, cols_i_want=[\"Adj Close\"]):\n",
        "\n",
        "  initpath = 'data/portfolio' + str(portfolio_number) + '/'\n",
        "  \n",
        "  # Store all filenames in a list\n",
        "  allfiles = os.listdir(initpath)\n",
        "\n",
        "  # creating empty dataframe\n",
        "  final_output = pd.DataFrame()\n",
        "\n",
        "  # Define columns i want\n",
        "  #cols_i_want = [\"Adj Close\"]\n",
        "\n",
        "  for filepath in allfiles:\n",
        "    if \".csv\" in filepath:\n",
        "      # Get file name from path\n",
        "      filename = filepath.replace(\".csv\",\"\")\n",
        "\n",
        "      # Read csv file and select column\n",
        "      price = pd.read_csv(initpath + filepath, index_col=\"Date\",parse_dates=True)\n",
        "      # Select relevant columns\n",
        "      price = price[cols_i_want]\n",
        "      # Fill foward NAs with last value\n",
        "      #price = price.fillna(method='ffill', axis=1)\n",
        "      # Rename column header to what was extracted from filename\n",
        "      price.columns = [filename]\n",
        "      # adding the column extracted to the dataframe\n",
        "      final_output = final_output.join(price, how=\"outer\") #outer to not lose data\n",
        "    \n",
        "    else:\n",
        "        #print(filepath + \" is not a csv\")\n",
        "        pass\n",
        "        \n",
        "    # Fill foward NAs with last value\n",
        "    #final_output = final_output.fillna(method='ffill', axis=0)\n",
        "    \n",
        "    # Drop NA, to find start date\n",
        "    #final_output = final_output.dropna(axis=0, how='any')\n",
        "    \n",
        "    \n",
        "  return final_output\n"
      ],
      "execution_count": 0,
      "outputs": []
    },
    {
      "cell_type": "code",
      "metadata": {
        "id": "-PNMgPaB1cgx",
        "colab_type": "code",
        "colab": {}
      },
      "source": [
        "portfolio_number = 1\n",
        "consolidate_portfolio(portfolio_number)"
      ],
      "execution_count": 0,
      "outputs": []
    },
    {
      "cell_type": "code",
      "metadata": {
        "id": "ui6g20Z54mHK",
        "colab_type": "code",
        "colab": {}
      },
      "source": [
        "def find_start_date():\n",
        "  df1 = consolidate_portfolio(1)\n",
        "  df1 = df1.dropna(axis=0, how='any')\n",
        "  \n",
        "  df2 = consolidate_portfolio(2)\n",
        "  df2 = df2.dropna(axis=0, how='any')\n",
        "  \n",
        "  dt1 = df1.index.min()\n",
        "  dt2 = df2.index.min()\n",
        "  \n",
        "  start_date = max(dt1, dt2)\n",
        "  \n",
        "  return start_date\n",
        "  "
      ],
      "execution_count": 0,
      "outputs": []
    },
    {
      "cell_type": "code",
      "metadata": {
        "id": "1_1jlidT6iuW",
        "colab_type": "code",
        "outputId": "92691b56-4bc8-4629-bc46-5116847f8c4c",
        "colab": {
          "base_uri": "https://localhost:8080/",
          "height": 35
        }
      },
      "source": [
        "find_start_date()"
      ],
      "execution_count": 0,
      "outputs": [
        {
          "output_type": "execute_result",
          "data": {
            "text/plain": [
              "Timestamp('2002-12-11 00:00:00')"
            ]
          },
          "metadata": {
            "tags": []
          },
          "execution_count": 54
        }
      ]
    },
    {
      "cell_type": "code",
      "metadata": {
        "id": "sbagTe266ilk",
        "colab_type": "code",
        "colab": {}
      },
      "source": [
        "def find_common_timeseries():\n",
        "  # Normalize data\n",
        "  start_date = find_start_date()\n",
        "  \n",
        "  portfolio1 = consolidate_portfolio(1)\n",
        "  portfolio2 = consolidate_portfolio(2)\n",
        "\n",
        "  \n",
        "  df = portfolio1.join(portfolio2, lsuffix='l', rsuffix='r')\n",
        "  df = df.dropna()\n",
        "  \n",
        "  return df.index"
      ],
      "execution_count": 0,
      "outputs": []
    },
    {
      "cell_type": "code",
      "metadata": {
        "id": "GDZEqYreDu8I",
        "colab_type": "code",
        "colab": {}
      },
      "source": [
        "find_common_timeseries()"
      ],
      "execution_count": 0,
      "outputs": []
    },
    {
      "cell_type": "code",
      "metadata": {
        "id": "UJrBcDHqEPsc",
        "colab_type": "code",
        "colab": {}
      },
      "source": [
        "def calculate_portfolio_value(portfolio_number):\n",
        "  # Gather data\n",
        "  df = consolidate_portfolio(portfolio_number)\n",
        "  \n",
        "  # Normalize data\n",
        "  common_timeseries = find_common_timeseries()\n",
        "  prices = df.reindex(labels = common_timeseries)\n",
        "  \n",
        "  # Calculate shares\n",
        "  seed_fund = 1000000\n",
        "  fund_per_share = seed_fund / len(prices.columns) #prices.shape[1]\n",
        "  shares_at_start = fund_per_share / prices.head(1)\n",
        "  shares = shares_at_start.reindex(labels = common_timeseries, method='ffill')\n",
        "  \n",
        "  value = shares * prices\n",
        "  value = value.sum(axis=1)\n",
        "  \n",
        "  return value"
      ],
      "execution_count": 0,
      "outputs": []
    },
    {
      "cell_type": "code",
      "metadata": {
        "id": "zM3Cmp3ZGJN1",
        "colab_type": "code",
        "colab": {}
      },
      "source": [
        "\n",
        "calculate_portfolio_value(1)\n",
        "\n"
      ],
      "execution_count": 0,
      "outputs": []
    },
    {
      "cell_type": "code",
      "metadata": {
        "id": "bb8j31RqNrMk",
        "colab_type": "code",
        "colab": {}
      },
      "source": [
        "def calculate_stats(portfolio_number):\n",
        "  portfolio_value = calculate_mktvalue(portfolio_number)\n",
        "  \n",
        "  # Calculate Returns in %\n",
        "  #portfolio_returns = portfolio_value[-1] / portfolio_value[0] * 100\n",
        "  portfolio_returns = portfolio_value.pct_change(periods=1)\n",
        "  \n",
        "  \n",
        "  # Calculate Sharpe (Mean/Std Dev)\n",
        "  portfolio_mean = portfolio_returns.mean(axis=0)\n",
        "  \n",
        "  portfolio_std = portfolio_returns.std(axis=0)\n",
        "  \n",
        "  portfolio_sharpe = portfolio_mean / portfolio_std\n",
        "  \n",
        "  return portfolio_sharpe"
      ],
      "execution_count": 0,
      "outputs": []
    },
    {
      "cell_type": "code",
      "metadata": {
        "id": "TvGlCUAiOBjN",
        "colab_type": "code",
        "colab": {}
      },
      "source": [
        "calculate_stats(1)"
      ],
      "execution_count": 0,
      "outputs": []
    },
    {
      "cell_type": "code",
      "metadata": {
        "id": "YK9yExg9G9dw",
        "colab_type": "code",
        "colab": {}
      },
      "source": [
        "def plot_portfolio():\n",
        "  \n",
        "  # Get portfolio values. Note that this returns a Series\n",
        "  port1 = calculate_portfolio_value(1)\n",
        "  port2 = calculate_portfolio_value(2)\n",
        "  \n",
        "  df = pd.concat([port1,port2], axis =1)\n",
        "  df.columns = ['Portfolio 1', 'Portfolio 2']\n",
        "  \n",
        "  df = df.plot(title='Portfolio Comparison',figsize=(6,8),legend=True)\n",
        "  \n",
        "  return df"
      ],
      "execution_count": 0,
      "outputs": []
    },
    {
      "cell_type": "code",
      "metadata": {
        "id": "AaEK0GeLJMUS",
        "colab_type": "code",
        "colab": {}
      },
      "source": [
        "plot_portfolio()\n"
      ],
      "execution_count": 0,
      "outputs": []
    },
    {
      "cell_type": "code",
      "metadata": {
        "id": "-2seCJdLL9et",
        "colab_type": "code",
        "colab": {}
      },
      "source": [
        "def plot_detailed_stats(portfolio):\n",
        "  \n",
        "  portfolio_value = calculate_portfolio_value(portfolio)\n",
        "  \n",
        "  portfolio_returns = portfolio_value.pct_change(periods=1)\n",
        "  \n",
        "  \n",
        "  portfolio_std = portfolio_returns.rolling(252).std()\n",
        "  \n",
        "  df = pd.concat([portfolio_value,portfolio_returns,portfolio_std], axis =1)\n",
        "  df.columns = ['Portfolio Value', 'Portfolio Return','Portfolio Std Dev']\n",
        "  \n",
        "  df = df.plot(title=f\"Stats for Portfolio {portfolio}\", subplots=True,figsize=(6,8),legend=True)\n",
        "  \n",
        "  return df"
      ],
      "execution_count": 0,
      "outputs": []
    },
    {
      "cell_type": "code",
      "metadata": {
        "id": "2wIbscXKSYpJ",
        "colab_type": "code",
        "colab": {}
      },
      "source": [
        "import matplotlib.pyplot as plt\n",
        "plot_detailed_stats(2)\n",
        "plt.savefig('mktvalue_timeseries')\n"
      ],
      "execution_count": 0,
      "outputs": []
    },
    {
      "cell_type": "code",
      "metadata": {
        "id": "lSgIyddqM662",
        "colab_type": "code",
        "colab": {}
      },
      "source": [
        "plot_detailed_stats(1)"
      ],
      "execution_count": 0,
      "outputs": []
    }
  ]
}